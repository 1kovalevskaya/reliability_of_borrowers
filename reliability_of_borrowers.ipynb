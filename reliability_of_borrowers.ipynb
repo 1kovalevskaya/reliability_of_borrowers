{
 "cells": [
  {
   "cell_type": "markdown",
   "id": "b6375d34-2d16-43f8-a970-13d588b935ac",
   "metadata": {},
   "source": [
    "**Исследование надежности заемщиков**\n",
    "="
   ]
  },
  {
   "cell_type": "markdown",
   "id": "f4f4a0c9-51b1-44e4-9f97-9d9ce9f0627e",
   "metadata": {},
   "source": [
    "Заказчик — кредитный отдел банка. Нужно разобраться, влияет ли семейное положение и количество детей клиента на факт погашения кредита в срок. Входные данные от банка — статистика о платёжеспособности клиентов.\n",
    "Результаты исследования будут учтены при построении модели кредитного скоринга — специальной системы, которая оценивает способность потенциального заёмщика вернуть кредит банку."
   ]
  },
  {
   "cell_type": "markdown",
   "id": "6ae724cc-f074-4ca4-93d0-8d04493499f6",
   "metadata": {},
   "source": [
    "# Обзор данных"
   ]
  },
  {
   "cell_type": "code",
   "execution_count": 1,
   "id": "5249d2c6-f37c-4e5d-87c1-1375aa9c5bd8",
   "metadata": {},
   "outputs": [],
   "source": [
    "#импорт библиотек\n",
    "\n",
    "import pandas as pd"
   ]
  },
  {
   "cell_type": "code",
   "execution_count": 2,
   "id": "e1127b13-8d14-4559-9a65-068c49b205e6",
   "metadata": {},
   "outputs": [
    {
     "name": "stdout",
     "output_type": "stream",
     "text": [
      "<class 'pandas.core.frame.DataFrame'>\n",
      "RangeIndex: 21525 entries, 0 to 21524\n",
      "Data columns (total 12 columns):\n",
      " #   Column            Non-Null Count  Dtype  \n",
      "---  ------            --------------  -----  \n",
      " 0   children          21525 non-null  int64  \n",
      " 1   days_employed     19351 non-null  float64\n",
      " 2   dob_years         21525 non-null  int64  \n",
      " 3   education         21525 non-null  object \n",
      " 4   education_id      21525 non-null  int64  \n",
      " 5   family_status     21525 non-null  object \n",
      " 6   family_status_id  21525 non-null  int64  \n",
      " 7   gender            21525 non-null  object \n",
      " 8   income_type       21525 non-null  object \n",
      " 9   debt              21525 non-null  int64  \n",
      " 10  total_income      19351 non-null  float64\n",
      " 11  purpose           21525 non-null  object \n",
      "dtypes: float64(2), int64(5), object(5)\n",
      "memory usage: 2.0+ MB\n"
     ]
    },
    {
     "data": {
      "text/html": [
       "<div>\n",
       "<style scoped>\n",
       "    .dataframe tbody tr th:only-of-type {\n",
       "        vertical-align: middle;\n",
       "    }\n",
       "\n",
       "    .dataframe tbody tr th {\n",
       "        vertical-align: top;\n",
       "    }\n",
       "\n",
       "    .dataframe thead th {\n",
       "        text-align: right;\n",
       "    }\n",
       "</style>\n",
       "<table border=\"1\" class=\"dataframe\">\n",
       "  <thead>\n",
       "    <tr style=\"text-align: right;\">\n",
       "      <th></th>\n",
       "      <th>children</th>\n",
       "      <th>days_employed</th>\n",
       "      <th>dob_years</th>\n",
       "      <th>education</th>\n",
       "      <th>education_id</th>\n",
       "      <th>family_status</th>\n",
       "      <th>family_status_id</th>\n",
       "      <th>gender</th>\n",
       "      <th>income_type</th>\n",
       "      <th>debt</th>\n",
       "      <th>total_income</th>\n",
       "      <th>purpose</th>\n",
       "    </tr>\n",
       "  </thead>\n",
       "  <tbody>\n",
       "    <tr>\n",
       "      <th>0</th>\n",
       "      <td>1</td>\n",
       "      <td>-8437.673028</td>\n",
       "      <td>42</td>\n",
       "      <td>высшее</td>\n",
       "      <td>0</td>\n",
       "      <td>женат / замужем</td>\n",
       "      <td>0</td>\n",
       "      <td>F</td>\n",
       "      <td>сотрудник</td>\n",
       "      <td>0</td>\n",
       "      <td>253875.639453</td>\n",
       "      <td>покупка жилья</td>\n",
       "    </tr>\n",
       "    <tr>\n",
       "      <th>1</th>\n",
       "      <td>1</td>\n",
       "      <td>-4024.803754</td>\n",
       "      <td>36</td>\n",
       "      <td>среднее</td>\n",
       "      <td>1</td>\n",
       "      <td>женат / замужем</td>\n",
       "      <td>0</td>\n",
       "      <td>F</td>\n",
       "      <td>сотрудник</td>\n",
       "      <td>0</td>\n",
       "      <td>112080.014102</td>\n",
       "      <td>приобретение автомобиля</td>\n",
       "    </tr>\n",
       "    <tr>\n",
       "      <th>2</th>\n",
       "      <td>0</td>\n",
       "      <td>-5623.422610</td>\n",
       "      <td>33</td>\n",
       "      <td>Среднее</td>\n",
       "      <td>1</td>\n",
       "      <td>женат / замужем</td>\n",
       "      <td>0</td>\n",
       "      <td>M</td>\n",
       "      <td>сотрудник</td>\n",
       "      <td>0</td>\n",
       "      <td>145885.952297</td>\n",
       "      <td>покупка жилья</td>\n",
       "    </tr>\n",
       "    <tr>\n",
       "      <th>3</th>\n",
       "      <td>3</td>\n",
       "      <td>-4124.747207</td>\n",
       "      <td>32</td>\n",
       "      <td>среднее</td>\n",
       "      <td>1</td>\n",
       "      <td>женат / замужем</td>\n",
       "      <td>0</td>\n",
       "      <td>M</td>\n",
       "      <td>сотрудник</td>\n",
       "      <td>0</td>\n",
       "      <td>267628.550329</td>\n",
       "      <td>дополнительное образование</td>\n",
       "    </tr>\n",
       "    <tr>\n",
       "      <th>4</th>\n",
       "      <td>0</td>\n",
       "      <td>340266.072047</td>\n",
       "      <td>53</td>\n",
       "      <td>среднее</td>\n",
       "      <td>1</td>\n",
       "      <td>гражданский брак</td>\n",
       "      <td>1</td>\n",
       "      <td>F</td>\n",
       "      <td>пенсионер</td>\n",
       "      <td>0</td>\n",
       "      <td>158616.077870</td>\n",
       "      <td>сыграть свадьбу</td>\n",
       "    </tr>\n",
       "    <tr>\n",
       "      <th>5</th>\n",
       "      <td>0</td>\n",
       "      <td>-926.185831</td>\n",
       "      <td>27</td>\n",
       "      <td>высшее</td>\n",
       "      <td>0</td>\n",
       "      <td>гражданский брак</td>\n",
       "      <td>1</td>\n",
       "      <td>M</td>\n",
       "      <td>компаньон</td>\n",
       "      <td>0</td>\n",
       "      <td>255763.565419</td>\n",
       "      <td>покупка жилья</td>\n",
       "    </tr>\n",
       "    <tr>\n",
       "      <th>6</th>\n",
       "      <td>0</td>\n",
       "      <td>-2879.202052</td>\n",
       "      <td>43</td>\n",
       "      <td>высшее</td>\n",
       "      <td>0</td>\n",
       "      <td>женат / замужем</td>\n",
       "      <td>0</td>\n",
       "      <td>F</td>\n",
       "      <td>компаньон</td>\n",
       "      <td>0</td>\n",
       "      <td>240525.971920</td>\n",
       "      <td>операции с жильем</td>\n",
       "    </tr>\n",
       "    <tr>\n",
       "      <th>7</th>\n",
       "      <td>0</td>\n",
       "      <td>-152.779569</td>\n",
       "      <td>50</td>\n",
       "      <td>СРЕДНЕЕ</td>\n",
       "      <td>1</td>\n",
       "      <td>женат / замужем</td>\n",
       "      <td>0</td>\n",
       "      <td>M</td>\n",
       "      <td>сотрудник</td>\n",
       "      <td>0</td>\n",
       "      <td>135823.934197</td>\n",
       "      <td>образование</td>\n",
       "    </tr>\n",
       "    <tr>\n",
       "      <th>8</th>\n",
       "      <td>2</td>\n",
       "      <td>-6929.865299</td>\n",
       "      <td>35</td>\n",
       "      <td>ВЫСШЕЕ</td>\n",
       "      <td>0</td>\n",
       "      <td>гражданский брак</td>\n",
       "      <td>1</td>\n",
       "      <td>F</td>\n",
       "      <td>сотрудник</td>\n",
       "      <td>0</td>\n",
       "      <td>95856.832424</td>\n",
       "      <td>на проведение свадьбы</td>\n",
       "    </tr>\n",
       "    <tr>\n",
       "      <th>9</th>\n",
       "      <td>0</td>\n",
       "      <td>-2188.756445</td>\n",
       "      <td>41</td>\n",
       "      <td>среднее</td>\n",
       "      <td>1</td>\n",
       "      <td>женат / замужем</td>\n",
       "      <td>0</td>\n",
       "      <td>M</td>\n",
       "      <td>сотрудник</td>\n",
       "      <td>0</td>\n",
       "      <td>144425.938277</td>\n",
       "      <td>покупка жилья для семьи</td>\n",
       "    </tr>\n",
       "  </tbody>\n",
       "</table>\n",
       "</div>"
      ],
      "text/plain": [
       "   children  days_employed  dob_years education  education_id  \\\n",
       "0         1   -8437.673028         42    высшее             0   \n",
       "1         1   -4024.803754         36   среднее             1   \n",
       "2         0   -5623.422610         33   Среднее             1   \n",
       "3         3   -4124.747207         32   среднее             1   \n",
       "4         0  340266.072047         53   среднее             1   \n",
       "5         0    -926.185831         27    высшее             0   \n",
       "6         0   -2879.202052         43    высшее             0   \n",
       "7         0    -152.779569         50   СРЕДНЕЕ             1   \n",
       "8         2   -6929.865299         35    ВЫСШЕЕ             0   \n",
       "9         0   -2188.756445         41   среднее             1   \n",
       "\n",
       "      family_status  family_status_id gender income_type  debt   total_income  \\\n",
       "0   женат / замужем                 0      F   сотрудник     0  253875.639453   \n",
       "1   женат / замужем                 0      F   сотрудник     0  112080.014102   \n",
       "2   женат / замужем                 0      M   сотрудник     0  145885.952297   \n",
       "3   женат / замужем                 0      M   сотрудник     0  267628.550329   \n",
       "4  гражданский брак                 1      F   пенсионер     0  158616.077870   \n",
       "5  гражданский брак                 1      M   компаньон     0  255763.565419   \n",
       "6   женат / замужем                 0      F   компаньон     0  240525.971920   \n",
       "7   женат / замужем                 0      M   сотрудник     0  135823.934197   \n",
       "8  гражданский брак                 1      F   сотрудник     0   95856.832424   \n",
       "9   женат / замужем                 0      M   сотрудник     0  144425.938277   \n",
       "\n",
       "                      purpose  \n",
       "0               покупка жилья  \n",
       "1     приобретение автомобиля  \n",
       "2               покупка жилья  \n",
       "3  дополнительное образование  \n",
       "4             сыграть свадьбу  \n",
       "5               покупка жилья  \n",
       "6           операции с жильем  \n",
       "7                 образование  \n",
       "8       на проведение свадьбы  \n",
       "9     покупка жилья для семьи  "
      ]
     },
     "execution_count": 2,
     "metadata": {},
     "output_type": "execute_result"
    }
   ],
   "source": [
    "data = pd.read_csv('./data.csv')\n",
    "data.info()\n",
    "data.head(10)"
   ]
  },
  {
   "cell_type": "markdown",
   "id": "90f99183-1595-4c7f-b3fd-5ea143c6287b",
   "metadata": {},
   "source": [
    "# Предобработка данных "
   ]
  },
  {
   "cell_type": "markdown",
   "id": "453f9864-98ef-4d27-b38c-52a348fe17f6",
   "metadata": {},
   "source": [
    "## Удаление пропусков"
   ]
  },
  {
   "cell_type": "code",
   "execution_count": 3,
   "id": "9ccdadfa-8391-42cf-90a3-f372afa7c864",
   "metadata": {},
   "outputs": [
    {
     "data": {
      "text/plain": [
       "children               0\n",
       "days_employed       2174\n",
       "dob_years              0\n",
       "education              0\n",
       "education_id           0\n",
       "family_status          0\n",
       "family_status_id       0\n",
       "gender                 0\n",
       "income_type            0\n",
       "debt                   0\n",
       "total_income        2174\n",
       "purpose                0\n",
       "dtype: int64"
      ]
     },
     "execution_count": 3,
     "metadata": {},
     "output_type": "execute_result"
    }
   ],
   "source": [
    "data.isna().sum()"
   ]
  },
  {
   "cell_type": "markdown",
   "id": "048a4b91-863d-4d1d-805d-acb1fa340cc2",
   "metadata": {},
   "source": [
    "В двух столбцах есть пропущенные значения. Один из них — `days_employed`. Другой столбец с пропущенными значениями — `total_income` — хранит данные о доходах. На сумму дохода сильнее всего влияет тип занятости, поэтому заполнить пропуски в этом столбце нужно медианным значением по каждому типу из столбца `income_type`."
   ]
  },
  {
   "cell_type": "code",
   "execution_count": 4,
   "id": "ff70b236-b0d1-409c-a61f-94dc0d4bf35f",
   "metadata": {},
   "outputs": [],
   "source": [
    "for t in data['income_type'].unique():\n",
    "    data.loc[(data['income_type'] == t) & (data['total_income'].isna()), 'total_income'] = data.loc[(data['income_type'] == t), 'total_income'].median()"
   ]
  },
  {
   "cell_type": "markdown",
   "id": "1c738cf7-62b5-4960-8e6e-35a81e6aa0e9",
   "metadata": {},
   "source": [
    "## Обработка аномальных значений "
   ]
  },
  {
   "cell_type": "markdown",
   "id": "5840e256-9a41-4c24-a935-a49fad31cb0d",
   "metadata": {},
   "source": [
    "В данных могут встречаться артефакты (аномалии) — значения, которые не отражают действительность и появились по какой-то ошибке. таким артефактом будет отрицательное количество дней трудового стажа в столбце `days_employed`. Для реальных данных это нормально. Обработайте значения в этом столбце: замените все отрицательные значения положительными с помощью метода `abs()`."
   ]
  },
  {
   "cell_type": "code",
   "execution_count": 5,
   "id": "0f5ae83c-53cf-488b-8d4d-de49e9fc10db",
   "metadata": {},
   "outputs": [],
   "source": [
    "data['days_employed'] = data['days_employed'].abs()"
   ]
  },
  {
   "cell_type": "code",
   "execution_count": 6,
   "id": "2fe47dbe-d6f1-4b73-adef-4309f075aae7",
   "metadata": {},
   "outputs": [
    {
     "data": {
      "text/plain": [
       "income_type\n",
       "безработный        366413.652744\n",
       "в декрете            3296.759962\n",
       "госслужащий          2689.368353\n",
       "компаньон            1547.382223\n",
       "пенсионер          365213.306266\n",
       "предприниматель       520.848083\n",
       "сотрудник            1574.202821\n",
       "студент               578.751554\n",
       "Name: days_employed, dtype: float64"
      ]
     },
     "execution_count": 6,
     "metadata": {},
     "output_type": "execute_result"
    }
   ],
   "source": [
    "data.groupby('income_type')['days_employed'].agg('median')"
   ]
  },
  {
   "cell_type": "markdown",
   "id": "033bf2ca-2fe3-45ed-bd93-3d09be264e87",
   "metadata": {},
   "source": [
    "У двух типов (безработные и пенсионеры) получатся аномально большие значения. Исправить такие значения сложно, поэтому оставим их как есть."
   ]
  },
  {
   "cell_type": "code",
   "execution_count": 7,
   "id": "edbe9133-5643-4ef1-a16a-77f14181af7f",
   "metadata": {},
   "outputs": [
    {
     "data": {
      "text/plain": [
       "array([ 1,  0,  3,  2, -1,  4, 20,  5])"
      ]
     },
     "execution_count": 7,
     "metadata": {},
     "output_type": "execute_result"
    }
   ],
   "source": [
    "data['children'].unique()"
   ]
  },
  {
   "cell_type": "markdown",
   "id": "80f90464-8511-4b4f-97ab-ae2b57e5ee74",
   "metadata": {},
   "source": [
    "В столбце `children` есть два аномальных значения. Нужно удалить строки, в которых встречаются такие аномальные значения."
   ]
  },
  {
   "cell_type": "code",
   "execution_count": 8,
   "id": "dcf710d2-8ae3-4bed-901f-101c5ddfc4bc",
   "metadata": {},
   "outputs": [
    {
     "data": {
      "text/plain": [
       "array([1, 0, 3, 2, 4, 5])"
      ]
     },
     "execution_count": 8,
     "metadata": {},
     "output_type": "execute_result"
    }
   ],
   "source": [
    "data = data[(data['children'] != -1) & (data['children'] != 20)]\n",
    "data['children'].unique()"
   ]
  },
  {
   "cell_type": "code",
   "execution_count": 9,
   "id": "9f6bd71c-747f-436d-8deb-1593f856a60f",
   "metadata": {},
   "outputs": [],
   "source": [
    "for t in data['income_type'].unique():\n",
    "    data.loc[(data['income_type'] == t) & (data['days_employed'].isna()), 'days_employed'] = data.loc[(data['income_type'] == t), 'days_employed'].median()"
   ]
  },
  {
   "cell_type": "code",
   "execution_count": 10,
   "id": "848b5453-e2a2-4f26-a4b5-89db167fcc83",
   "metadata": {},
   "outputs": [
    {
     "data": {
      "text/plain": [
       "children            0\n",
       "days_employed       0\n",
       "dob_years           0\n",
       "education           0\n",
       "education_id        0\n",
       "family_status       0\n",
       "family_status_id    0\n",
       "gender              0\n",
       "income_type         0\n",
       "debt                0\n",
       "total_income        0\n",
       "purpose             0\n",
       "dtype: int64"
      ]
     },
     "execution_count": 10,
     "metadata": {},
     "output_type": "execute_result"
    }
   ],
   "source": [
    "data.isna().sum()"
   ]
  },
  {
   "cell_type": "markdown",
   "id": "65823cf8-53b7-4305-86bf-d5a40e1e843a",
   "metadata": {},
   "source": [
    "Все пропуски заполнены."
   ]
  },
  {
   "cell_type": "markdown",
   "id": "2483119c-9dc4-472a-99e0-b4f2de5538f1",
   "metadata": {},
   "source": [
    "## Изменение типов данных"
   ]
  },
  {
   "cell_type": "code",
   "execution_count": 11,
   "id": "8ae10d68-4d2b-4d87-8f9f-fd2cf66ae172",
   "metadata": {},
   "outputs": [],
   "source": [
    "data['total_income'] = data['total_income'].astype(int)"
   ]
  },
  {
   "cell_type": "markdown",
   "id": "f91cd541-cb1b-4466-a600-e9b1ce80f192",
   "metadata": {},
   "source": [
    "## Обработка дубликатов"
   ]
  },
  {
   "cell_type": "code",
   "execution_count": 12,
   "id": "b899cd36-90ad-4882-ae05-e485b2e74bce",
   "metadata": {},
   "outputs": [],
   "source": [
    "data['education'] = data['education'].str.lower()"
   ]
  },
  {
   "cell_type": "code",
   "execution_count": 13,
   "id": "fb8b0fe7-5c1d-4f78-9cea-e8348bd91a27",
   "metadata": {},
   "outputs": [
    {
     "data": {
      "text/plain": [
       "71"
      ]
     },
     "execution_count": 13,
     "metadata": {},
     "output_type": "execute_result"
    }
   ],
   "source": [
    "data.duplicated().sum()"
   ]
  },
  {
   "cell_type": "code",
   "execution_count": 14,
   "id": "752bc705-27ed-408f-aa0f-03263740bdc9",
   "metadata": {},
   "outputs": [],
   "source": [
    "data = data.drop_duplicates()"
   ]
  },
  {
   "cell_type": "markdown",
   "id": "6572d144-858f-4027-94f6-812586e14fe2",
   "metadata": {},
   "source": [
    "## Категоризация данных"
   ]
  },
  {
   "cell_type": "markdown",
   "id": "8f29dac9-7471-4ae5-9839-e938f026f446",
   "metadata": {},
   "source": [
    "На основании диапазонов, указанных ниже, нужно создать в датафрейме `data` столбец `total_income_category` с категориями:**\n",
    "\n",
    "- 0–30000 — `'E'`;\n",
    "- 30001–50000 — `'D'`;\n",
    "- 50001–200000 — `'C'`;\n",
    "- 200001–1000000 — `'B'`;\n",
    "- 1000001 и выше — `'A'`."
   ]
  },
  {
   "cell_type": "code",
   "execution_count": 15,
   "id": "020cbeba-c431-4340-a6aa-f5a3a4e3e52d",
   "metadata": {},
   "outputs": [],
   "source": [
    "def categorize_income(income):\n",
    "    try:\n",
    "        if 0 <= income <= 30000:\n",
    "            return 'E'\n",
    "        elif 30001 <= income <= 50000:\n",
    "            return 'D'\n",
    "        elif 50001 <= income <= 200000:\n",
    "            return 'C'\n",
    "        elif 200001 <= income <= 1000000:\n",
    "            return 'B'\n",
    "        elif income >= 1000001:\n",
    "            return 'A'\n",
    "    except:\n",
    "        pass"
   ]
  },
  {
   "cell_type": "code",
   "execution_count": 16,
   "id": "1f73ad3d-29b2-41a1-bcd4-5fbfdc635374",
   "metadata": {},
   "outputs": [],
   "source": [
    "data['total_income_category'] = data['total_income'].apply(categorize_income)"
   ]
  },
  {
   "cell_type": "code",
   "execution_count": 17,
   "id": "c755f8ea-b49c-49ca-afb0-3129c0615ac1",
   "metadata": {},
   "outputs": [
    {
     "data": {
      "text/plain": [
       "array(['покупка жилья', 'приобретение автомобиля',\n",
       "       'дополнительное образование', 'сыграть свадьбу',\n",
       "       'операции с жильем', 'образование', 'на проведение свадьбы',\n",
       "       'покупка жилья для семьи', 'покупка недвижимости',\n",
       "       'покупка коммерческой недвижимости', 'покупка жилой недвижимости',\n",
       "       'строительство собственной недвижимости', 'недвижимость',\n",
       "       'строительство недвижимости', 'на покупку подержанного автомобиля',\n",
       "       'на покупку своего автомобиля',\n",
       "       'операции с коммерческой недвижимостью',\n",
       "       'строительство жилой недвижимости', 'жилье',\n",
       "       'операции со своей недвижимостью', 'автомобили',\n",
       "       'заняться образованием', 'сделка с подержанным автомобилем',\n",
       "       'получение образования', 'автомобиль', 'свадьба',\n",
       "       'получение дополнительного образования', 'покупка своего жилья',\n",
       "       'операции с недвижимостью', 'получение высшего образования',\n",
       "       'свой автомобиль', 'сделка с автомобилем',\n",
       "       'профильное образование', 'высшее образование',\n",
       "       'покупка жилья для сдачи', 'на покупку автомобиля', 'ремонт жилью',\n",
       "       'заняться высшим образованием'], dtype=object)"
      ]
     },
     "execution_count": 17,
     "metadata": {},
     "output_type": "execute_result"
    }
   ],
   "source": [
    "data['purpose'].unique()"
   ]
  },
  {
   "cell_type": "markdown",
   "id": "34e96a2c-1b72-4dcd-ab77-cb4b09a88ef3",
   "metadata": {},
   "source": [
    "Нужно создать функцию, которая на основании данных из столбца `purpose` сформирует новый столбец `purpose_category`, в который войдут следующие категории:**\n",
    "\n",
    "- `'операции с автомобилем'`,\n",
    "- `'операции с недвижимостью'`,\n",
    "- `'проведение свадьбы'`,\n",
    "- `'получение образования'`."
   ]
  },
  {
   "cell_type": "code",
   "execution_count": 18,
   "id": "51773656-772f-477e-a2c3-af8f68e2ba9f",
   "metadata": {},
   "outputs": [],
   "source": [
    "def categorize_purpose(row):\n",
    "    try:\n",
    "        if 'автом' in row:\n",
    "            return 'операции с автомобилем'\n",
    "        elif 'жил' in row or 'недвиж' in row:\n",
    "            return 'операции с недвижимостью'\n",
    "        elif 'свад' in row:\n",
    "            return 'проведение свадьбы'\n",
    "        elif 'образов' in row:\n",
    "            return 'получение образования'\n",
    "    except:\n",
    "        return 'нет категории'"
   ]
  },
  {
   "cell_type": "code",
   "execution_count": 19,
   "id": "5d797718-f1a7-4b0e-bf09-738c9c4254fd",
   "metadata": {},
   "outputs": [],
   "source": [
    "data['purpose_category'] = data['purpose'].apply(categorize_purpose)"
   ]
  },
  {
   "cell_type": "markdown",
   "id": "f3e9ee93-3cb8-4ccb-bad3-02e42cb1442f",
   "metadata": {},
   "source": [
    "# Исследование гипотез"
   ]
  },
  {
   "cell_type": "markdown",
   "id": "670b95b7-aa0b-4251-a666-6cb61fb463ab",
   "metadata": {},
   "source": [
    "## Есть ли зависимость между количеством детей и возвратом кредита в срок?"
   ]
  },
  {
   "cell_type": "code",
   "execution_count": 20,
   "id": "dc906866-0018-49f3-97c1-e405d0391ef7",
   "metadata": {},
   "outputs": [
    {
     "data": {
      "text/plain": [
       "children  total_child_data\n",
       "0         14091.0             0.075438\n",
       "1         4808.0              0.092346\n",
       "2         2052.0              0.094542\n",
       "3         330.0               0.081818\n",
       "4         41.0                0.097561\n",
       "5         9.0                 0.000000\n",
       "Name: fraction_debt_child, dtype: float64"
      ]
     },
     "execution_count": 20,
     "metadata": {},
     "output_type": "execute_result"
    }
   ],
   "source": [
    "for child in data['children'].unique():\n",
    "    total_child_data = data.loc[data['children'] == child, 'debt'].count() \n",
    "    data.loc[data['children'] == child, 'total_child_data'] = total_child_data \n",
    "    debt_child_data = data.loc[data['children'] == child, 'debt'].sum() \n",
    "    data.loc[data['children'] == child, 'fraction_debt_child'] = debt_child_data / total_child_data \n",
    "\n",
    "data.groupby(['children', 'total_child_data'])['fraction_debt_child'].median()"
   ]
  },
  {
   "cell_type": "markdown",
   "id": "ae8b11d4-b76d-4a5a-8dd3-aedd96f0b5db",
   "metadata": {},
   "source": [
    "**Вывод:** \n",
    "Стоит отметить, что количество заемщиков с 3, 4 и 5 детьми очень немногочисленны, поэтому эти категории для выявления зависимости использоваться не будут. Если же посмотреть на категории без детей и с 1 или 2 детьми, то видно, что с увеличением количества детей увеличивается процент кредитов, невозвращенных вовремя."
   ]
  },
  {
   "cell_type": "markdown",
   "id": "79889850-6141-499e-b6ab-e926b91c22c0",
   "metadata": {},
   "source": [
    "## Есть ли зависимость между семейным положением и возвратом кредита в срок?"
   ]
  },
  {
   "cell_type": "code",
   "execution_count": 21,
   "id": "fd47217a-4c82-4c28-9ddf-32febd82da4a",
   "metadata": {},
   "outputs": [
    {
     "data": {
      "text/plain": [
       "family_status          total_family_data\n",
       "Не женат / не замужем  2796.0               0.097639\n",
       "в разводе              1189.0               0.070648\n",
       "вдовец / вдова         951.0                0.066246\n",
       "гражданский брак       4134.0               0.093130\n",
       "женат / замужем        12261.0              0.075606\n",
       "Name: fraction_debt_family, dtype: float64"
      ]
     },
     "execution_count": 21,
     "metadata": {},
     "output_type": "execute_result"
    }
   ],
   "source": [
    "for family in data['family_status'].unique():\n",
    "    total_family_data = data.loc[data['family_status'] == family, 'debt'].count()\n",
    "    data.loc[data['family_status'] == family, 'total_family_data'] = total_family_data\n",
    "    debt_family_data = data.loc[data['family_status'] == family, 'debt'].sum()\n",
    "    data.loc[data['family_status'] == family, 'fraction_debt_family'] = debt_family_data / total_family_data \n",
    "\n",
    "data.groupby(['family_status', 'total_family_data'])['fraction_debt_family'].median()"
   ]
  },
  {
   "cell_type": "markdown",
   "id": "0cbb54ed-bd85-4917-847a-f2e4997041a2",
   "metadata": {},
   "source": [
    "**Вывод:** Можно данные категории разделить еще на 2 категории: те кто есть или был в официальном браке (группы женат/замужем, в разводе, вдовец / вдова) и те кто в нем не был ( не женат/не замужем, гражданский брак). Так вот люди 1-ой объединенной категории чаще возвращают кредиты вовремя, чем люди 2-ой объединенной категории."
   ]
  },
  {
   "cell_type": "markdown",
   "id": "c6f3c8c9-92b4-4ca0-89f5-7bc10df5d2d7",
   "metadata": {},
   "source": [
    "## Есть ли зависимость между уровнем дохода и возвратом кредита в срок?"
   ]
  },
  {
   "cell_type": "code",
   "execution_count": 22,
   "id": "5f45df8c-983e-405c-9162-5340762a8985",
   "metadata": {},
   "outputs": [
    {
     "data": {
      "text/plain": [
       "total_income_category  total_income_data\n",
       "A                      25.0                 0.080000\n",
       "B                      5014.0               0.070602\n",
       "C                      15921.0              0.084982\n",
       "D                      349.0                0.060172\n",
       "E                      22.0                 0.090909\n",
       "Name: fraction_debt_income, dtype: float64"
      ]
     },
     "execution_count": 22,
     "metadata": {},
     "output_type": "execute_result"
    }
   ],
   "source": [
    "for income in data['total_income_category'].unique(): \n",
    "    total_income_data = data.loc[data['total_income_category'] == income, 'debt'].count() \n",
    "    data.loc[data['total_income_category'] == income, 'total_income_data'] = total_income_data \n",
    "    debt_income_data = data.loc[data['total_income_category'] == income, 'debt'].sum() \n",
    "    data.loc[data['total_income_category'] == income, 'fraction_debt_income'] = debt_income_data / total_income_data \n",
    "\n",
    "data.groupby(['total_income_category', 'total_income_data'])['fraction_debt_income'].median() "
   ]
  },
  {
   "cell_type": "markdown",
   "id": "51d92aad-9ecd-4d2d-8106-e7b9f2fa32e7",
   "metadata": {},
   "source": [
    "**Вывод:** Категории заемщиков с уровнями доходами А, D и Е являются очень не многочисленными, поэтому их нельзя использовать для выявления общей зависимости. \n",
    "Из данных оставшихся групп можно сделать вывод, что чем меньше уровень дохода, тем выше процент невозвращенных кредитов.\n",
    "Возможно стоит изменить подход к категоризациюю доходов, чтобы многочисленными были хотя бы 3-4 группы."
   ]
  },
  {
   "cell_type": "markdown",
   "id": "5f63bf06-57f5-4bb2-92df-ff9639eb2056",
   "metadata": {},
   "source": [
    "## Как разные цели кредита влияют на его возврат в срок?"
   ]
  },
  {
   "cell_type": "code",
   "execution_count": 23,
   "id": "0d52e363-80ac-4189-a289-4f0250e0807f",
   "metadata": {},
   "outputs": [
    {
     "data": {
      "text/plain": [
       "purpose_category          total_purpose_data\n",
       "операции с автомобилем    4279.0                0.093480\n",
       "операции с недвижимостью  10751.0               0.072551\n",
       "получение образования     3988.0                0.092528\n",
       "проведение свадьбы        2313.0                0.079118\n",
       "Name: fraction_debt_purpose, dtype: float64"
      ]
     },
     "execution_count": 23,
     "metadata": {},
     "output_type": "execute_result"
    }
   ],
   "source": [
    "for purpose in data['purpose_category'].unique(): \n",
    "    total_purpose_data = data.loc[data['purpose_category'] == purpose, 'debt'].count() \n",
    "    data.loc[data['purpose_category'] == purpose, 'total_purpose_data'] = total_purpose_data \n",
    "    debt_purpose_data = data.loc[data['purpose_category'] == purpose, 'debt'].sum() \n",
    "    data.loc[data['purpose_category'] == purpose, 'fraction_debt_purpose'] = debt_purpose_data / total_purpose_data \n",
    "\n",
    "data.groupby(['purpose_category', 'total_purpose_data'])['fraction_debt_purpose'].median()"
   ]
  },
  {
   "cell_type": "markdown",
   "id": "076e5e6a-8374-4560-a692-c34b03d8b55b",
   "metadata": {},
   "source": [
    "**Вывод:** Чаще всего не возвращают кредит люди, берущие его с целью операций с автомобилями. Реже всего - берущие на операции с недвижимостью."
   ]
  },
  {
   "cell_type": "markdown",
   "id": "9202a96d-e975-4d50-83c5-fb9fd79b6f80",
   "metadata": {},
   "source": [
    "## Приведите возможные причины появления пропусков в исходных данных"
   ]
  },
  {
   "cell_type": "markdown",
   "id": "b0d73721-d1a7-472e-848d-7aa819b1fd7c",
   "metadata": {},
   "source": [
    "*Ответ:* Не был указан стаж в днях и размер зарплаты при заполнении заявки на кредит - либо забыли, либо человек не хотел афишировать эти данные, либо человек не имеет и никогда не имел официальной работы (а соответственно данных о стаже и зарплате), либо не было нужды указывать эти данные, потому как кредит выдавали и без этих данных.\n",
    "\n",
    "Возможно возникла проблема при выгрузке данных из системы банка или данные были занесены не в том формате."
   ]
  },
  {
   "cell_type": "markdown",
   "id": "c2250413-8e26-4e40-8900-cb5f6bdbee02",
   "metadata": {},
   "source": [
    "## Объясните, почему заполнить пропуски медианным значением — лучшее решение для количественных переменных"
   ]
  },
  {
   "cell_type": "markdown",
   "id": "8f0c77f8-f47a-46da-b25f-d52466b807e8",
   "metadata": {},
   "source": [
    "*Ответ:* Использование среднего значения может быть некорректно для данных, в которых представлены значения, сильно выделяющиеся среди других. Поэтому лучше использовать медианное значение, которое меньше подвержено изменениям при сильно разнящихся значениях."
   ]
  },
  {
   "cell_type": "markdown",
   "id": "3efbfac5-6cd0-4133-85db-f57df7ec6e30",
   "metadata": {},
   "source": [
    "# Общий вывод"
   ]
  },
  {
   "cell_type": "markdown",
   "id": "54ec793d-42e6-4077-8bea-9fa3a21523a5",
   "metadata": {},
   "source": [
    "В данной работе были проанализированы данные от банка - сведения о платежеспособности клиентов - с целью выявления зависимости выплаты кредита в срок от уровня дохода, количества детей, семейного положения и цели кредита. \n",
    "\n",
    "Анализ полученных данных показал, что:\n",
    "\n",
    "1. При увеличении количества детей увеличивается вероятность невозврата кредита в срок.\n",
    "2. Наличие статуса официального брака (в настоящем или прошедшем) увеличивает шансы на своевременный возврат кредита.\n",
    "3. При снижении уровня дохода увеличивается вероятность невозврата кредита в срок.\n",
    "4. Чаще всего не возвращают кредит люди, берущие его с целью операций с автомобилями.\n",
    "\n"
   ]
  },
  {
   "cell_type": "code",
   "execution_count": null,
   "id": "977104b5-3ff3-4def-818f-3a8efd583b74",
   "metadata": {},
   "outputs": [],
   "source": []
  }
 ],
 "metadata": {
  "kernelspec": {
   "display_name": "Python 3 (ipykernel)",
   "language": "python",
   "name": "python3"
  },
  "language_info": {
   "codemirror_mode": {
    "name": "ipython",
    "version": 3
   },
   "file_extension": ".py",
   "mimetype": "text/x-python",
   "name": "python",
   "nbconvert_exporter": "python",
   "pygments_lexer": "ipython3",
   "version": "3.10.12"
  }
 },
 "nbformat": 4,
 "nbformat_minor": 5
}
